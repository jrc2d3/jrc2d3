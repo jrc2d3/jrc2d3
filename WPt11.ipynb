{
  "nbformat": 4,
  "nbformat_minor": 0,
  "metadata": {
    "colab": {
      "provenance": [],
      "authorship_tag": "ABX9TyMbITrSjLGUD3xh1zgBnQ40"
    },
    "kernelspec": {
      "name": "python3",
      "display_name": "Python 3"
    },
    "language_info": {
      "name": "python"
    }
  },
  "cells": [
    {
      "cell_type": "code",
      "execution_count": null,
      "metadata": {
        "colab": {
          "base_uri": "https://localhost:8080/"
        },
        "id": "XZ4l2k2s3jEV",
        "outputId": "7d4a7019-6f9f-4924-dd70-5f027213ba1c"
      },
      "outputs": [
        {
          "output_type": "stream",
          "name": "stdout",
          "text": [
            "Enter text, 'wp' to enter writer mode, 'cell' to create a cell, or 'celltoggle' to toggle a cell: wp\n",
            "You are now in writer mode. Type 'wpexit' to exit.\n",
            "Enter text, 'wp' to enter writer mode, 'cell' to create a cell, or 'celltoggle' to toggle a cell: cell\n",
            "Enter cell content: This is my first Python Code, with the help of GPT.4\n",
            "Cell created!\n",
            "Enter text, 'wp' to enter writer mode, 'cell' to create a cell, or 'celltoggle' to toggle a cell: CELLTOGGLE\n",
            "                                   CELLTOGGLE                                   \n",
            "Enter text, 'wp' to enter writer mode, 'cell' to create a cell, or 'celltoggle' to toggle a cell: WPEXIT\n",
            "                                     WPEXIT                                     \n"
          ]
        }
      ],
      "source": [
        "cells = []  # list to hold cells\n",
        "\n",
        "while True:\n",
        "    user_input = input(\"Enter text, 'wp' to enter writer mode, 'cell' to create a cell, or 'celltoggle' to toggle a cell: \")\n",
        "    \n",
        "    if user_input == 'wp':\n",
        "        print(\"You are now in writer mode. Type 'wpexit' to exit.\")\n",
        "        writer_mode = True\n",
        "        continue\n",
        "    \n",
        "    elif user_input == 'wpexit':\n",
        "        print(\"You have exited writer mode. Type 'wp' to re-enter writer mode.\")\n",
        "        writer_mode = False\n",
        "        continue\n",
        "    \n",
        "    elif user_input == 'cell':\n",
        "        cell_content = input(\"Enter cell content: \")\n",
        "        cells.append(cell_content)\n",
        "        print(\"Cell created!\")\n",
        "        continue\n",
        "    \n",
        "    elif user_input == 'celltoggle':\n",
        "        if len(cells) == 0:\n",
        "            print(\"No cells created yet!\")\n",
        "            continue\n",
        "        else:\n",
        "            print(\"Select a cell number to toggle:\")\n",
        "            for i, cell in enumerate(cells):\n",
        "                print(f\"{i}: {cell}\")\n",
        "            cell_num = int(input())\n",
        "            if cell_num >= len(cells):\n",
        "                print(\"Invalid cell number!\")\n",
        "                continue\n",
        "            else:\n",
        "                cells[cell_num] = input(\"Enter new cell content: \")\n",
        "                continue\n",
        "    \n",
        "    elif writer_mode:\n",
        "        print(user_input.center(80))\n",
        "        continue\n",
        "    \n",
        "    else:\n",
        "        print(user_input)\n",
        "        continue\n"
      ]
    }
  ]
}
